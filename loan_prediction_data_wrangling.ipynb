{
 "cells": [
  {
   "cell_type": "markdown",
   "source": [
    "### Loan Prediction Data Wrangling\n"
   ],
   "metadata": {
    "collapsed": false
   },
   "id": "e1620b34c7cadc01"
  },
  {
   "cell_type": "markdown",
   "source": [
    "In this part of the loan prediction project, my goal is to prepare my data for future pre-processing and analysis."
   ],
   "metadata": {
    "collapsed": false
   },
   "id": "5bb5232130d24971"
  },
  {
   "cell_type": "code",
   "execution_count": 10,
   "outputs": [],
   "source": [
    "# Import python packages\n",
    "import pandas as pd"
   ],
   "metadata": {
    "collapsed": false,
    "ExecuteTime": {
     "end_time": "2024-01-20T18:13:23.461121Z",
     "start_time": "2024-01-20T18:13:23.451172Z"
    }
   },
   "id": "f16f588550a8b6c7"
  },
  {
   "cell_type": "markdown",
   "source": [
    "These standard packages should help me review and prepare the dataset for future processing and analysis. For this project, I found a dataset from kaggle and can be found here: https://www.kaggle.com/datasets/nikhil1e9/loan-default/data\n",
    "\n",
    "The goal of the project is to predict whether a customer will default on their given a variety of features about the client.  By being able to identify high risk loans, financial institutions can reduce losses and improve profits. "
   ],
   "metadata": {
    "collapsed": false
   },
   "id": "181ef3ffbff50cf7"
  },
  {
   "cell_type": "code",
   "execution_count": 11,
   "outputs": [
    {
     "name": "stdout",
     "output_type": "stream",
     "text": [
      "       LoanID  Age  Income  LoanAmount  CreditScore  MonthsEmployed  \\\n",
      "0  I38PQUQS96   56   85994       50587          520              80   \n",
      "1  HPSK72WA7R   69   50432      124440          458              15   \n",
      "2  C1OZ6DPJ8Y   46   84208      129188          451              26   \n",
      "3  V2KKSFM3UN   32   31713       44799          743               0   \n",
      "4  EY08JDHTZP   60   20437        9139          633               8   \n",
      "\n",
      "   NumCreditLines  InterestRate  LoanTerm  DTIRatio    Education  \\\n",
      "0               4         15.23        36      0.44   Bachelor's   \n",
      "1               1          4.81        60      0.68     Master's   \n",
      "2               3         21.17        24      0.31     Master's   \n",
      "3               3          7.07        24      0.23  High School   \n",
      "4               4          6.51        48      0.73   Bachelor's   \n",
      "\n",
      "  EmploymentType MaritalStatus HasMortgage HasDependents LoanPurpose  \\\n",
      "0      Full-time      Divorced         Yes           Yes       Other   \n",
      "1      Full-time       Married          No            No       Other   \n",
      "2     Unemployed      Divorced         Yes           Yes        Auto   \n",
      "3      Full-time       Married          No            No    Business   \n",
      "4     Unemployed      Divorced          No           Yes        Auto   \n",
      "\n",
      "  HasCoSigner  Default  \n",
      "0         Yes        0  \n",
      "1         Yes        0  \n",
      "2          No        1  \n",
      "3          No        0  \n",
      "4          No        0  \n"
     ]
    }
   ],
   "source": [
    "# Load the dataset\n",
    "data = pd.read_csv('Loan_default.csv')\n",
    "print(data.head())"
   ],
   "metadata": {
    "collapsed": false,
    "ExecuteTime": {
     "end_time": "2024-01-20T18:13:23.850433Z",
     "start_time": "2024-01-20T18:13:23.457669Z"
    }
   },
   "id": "b773294909ccf441"
  },
  {
   "cell_type": "markdown",
   "source": [
    "The dataset was loaded successfully using pandas read_csv. Next, I will look more closely at the dataset to get a better understanding of the data. \n",
    "\n",
    "Since the target variable, default, is binary (0 - no default, 1 - default), this is a classification type problem."
   ],
   "metadata": {
    "collapsed": false
   },
   "id": "30dcddc95fe08749"
  },
  {
   "cell_type": "code",
   "execution_count": 12,
   "outputs": [
    {
     "name": "stdout",
     "output_type": "stream",
     "text": [
      "<class 'pandas.core.frame.DataFrame'>\n",
      "RangeIndex: 255347 entries, 0 to 255346\n",
      "Data columns (total 18 columns):\n",
      " #   Column          Non-Null Count   Dtype  \n",
      "---  ------          --------------   -----  \n",
      " 0   LoanID          255347 non-null  object \n",
      " 1   Age             255347 non-null  int64  \n",
      " 2   Income          255347 non-null  int64  \n",
      " 3   LoanAmount      255347 non-null  int64  \n",
      " 4   CreditScore     255347 non-null  int64  \n",
      " 5   MonthsEmployed  255347 non-null  int64  \n",
      " 6   NumCreditLines  255347 non-null  int64  \n",
      " 7   InterestRate    255347 non-null  float64\n",
      " 8   LoanTerm        255347 non-null  int64  \n",
      " 9   DTIRatio        255347 non-null  float64\n",
      " 10  Education       255347 non-null  object \n",
      " 11  EmploymentType  255347 non-null  object \n",
      " 12  MaritalStatus   255347 non-null  object \n",
      " 13  HasMortgage     255347 non-null  object \n",
      " 14  HasDependents   255347 non-null  object \n",
      " 15  LoanPurpose     255347 non-null  object \n",
      " 16  HasCoSigner     255347 non-null  object \n",
      " 17  Default         255347 non-null  int64  \n",
      "dtypes: float64(2), int64(8), object(8)\n",
      "memory usage: 35.1+ MB\n",
      "None\n"
     ]
    }
   ],
   "source": [
    "print(data.info())"
   ],
   "metadata": {
    "collapsed": false,
    "ExecuteTime": {
     "end_time": "2024-01-20T18:13:23.914350Z",
     "start_time": "2024-01-20T18:13:23.852135Z"
    }
   },
   "id": "8b3571fd6ffadff8"
  },
  {
   "cell_type": "markdown",
   "source": [
    "There are 17 columns.  Of the 18 columns, 8 columns are objects (need to investigate these more), 8 columns are integers and 2 columns are floats. The dataset does not appear to have any null/NaN values but I will check more closely."
   ],
   "metadata": {
    "collapsed": false
   },
   "id": "8c839301548424df"
  },
  {
   "cell_type": "code",
   "execution_count": 13,
   "outputs": [
    {
     "name": "stdout",
     "output_type": "stream",
     "text": [
      "LoanID            0\n",
      "Age               0\n",
      "Income            0\n",
      "LoanAmount        0\n",
      "CreditScore       0\n",
      "MonthsEmployed    0\n",
      "NumCreditLines    0\n",
      "InterestRate      0\n",
      "LoanTerm          0\n",
      "DTIRatio          0\n",
      "Education         0\n",
      "EmploymentType    0\n",
      "MaritalStatus     0\n",
      "HasMortgage       0\n",
      "HasDependents     0\n",
      "LoanPurpose       0\n",
      "HasCoSigner       0\n",
      "Default           0\n",
      "dtype: int64\n"
     ]
    }
   ],
   "source": [
    "print(data.isnull().sum())"
   ],
   "metadata": {
    "collapsed": false,
    "ExecuteTime": {
     "end_time": "2024-01-20T18:13:23.974665Z",
     "start_time": "2024-01-20T18:13:23.914568Z"
    }
   },
   "id": "ec876eb7456b2c7"
  },
  {
   "cell_type": "markdown",
   "source": [
    "As suspected, there are no null values.  This is great!  The dataset seems to be in good initial shape.  \n",
    "\n",
    "The columns 'LoanID', 'HasCoSigner', 'Education', 'EmploymentType', 'MaritalStatus', 'HasMortgage', 'HasDependents', 'LoanPurpose' are categorical and need to be converted into a numeric type. One way to do this is using the pd.get_dummies method in pandas. This will make the categorical columns usable for machine learning models."
   ],
   "metadata": {
    "collapsed": false
   },
   "id": "926cae8f000d4866"
  },
  {
   "cell_type": "code",
   "execution_count": 14,
   "outputs": [
    {
     "name": "stdout",
     "output_type": "stream",
     "text": [
      "Index(['LoanID', 'Age', 'Income', 'LoanAmount', 'CreditScore',\n",
      "       'MonthsEmployed', 'NumCreditLines', 'InterestRate', 'LoanTerm',\n",
      "       'DTIRatio', 'Default', 'HasCoSigner_Yes', 'Education_High School',\n",
      "       'Education_Master's', 'Education_PhD', 'EmploymentType_Part-time',\n",
      "       'EmploymentType_Self-employed', 'EmploymentType_Unemployed',\n",
      "       'MaritalStatus_Married', 'MaritalStatus_Single', 'HasMortgage_Yes',\n",
      "       'HasDependents_Yes', 'LoanPurpose_Business', 'LoanPurpose_Education',\n",
      "       'LoanPurpose_Home', 'LoanPurpose_Other'],\n",
      "      dtype='object')\n",
      "<class 'pandas.core.frame.DataFrame'>\n",
      "RangeIndex: 255347 entries, 0 to 255346\n",
      "Data columns (total 26 columns):\n",
      " #   Column                        Non-Null Count   Dtype  \n",
      "---  ------                        --------------   -----  \n",
      " 0   LoanID                        255347 non-null  object \n",
      " 1   Age                           255347 non-null  int64  \n",
      " 2   Income                        255347 non-null  int64  \n",
      " 3   LoanAmount                    255347 non-null  int64  \n",
      " 4   CreditScore                   255347 non-null  int64  \n",
      " 5   MonthsEmployed                255347 non-null  int64  \n",
      " 6   NumCreditLines                255347 non-null  int64  \n",
      " 7   InterestRate                  255347 non-null  float64\n",
      " 8   LoanTerm                      255347 non-null  int64  \n",
      " 9   DTIRatio                      255347 non-null  float64\n",
      " 10  Default                       255347 non-null  int64  \n",
      " 11  HasCoSigner_Yes               255347 non-null  bool   \n",
      " 12  Education_High School         255347 non-null  bool   \n",
      " 13  Education_Master's            255347 non-null  bool   \n",
      " 14  Education_PhD                 255347 non-null  bool   \n",
      " 15  EmploymentType_Part-time      255347 non-null  bool   \n",
      " 16  EmploymentType_Self-employed  255347 non-null  bool   \n",
      " 17  EmploymentType_Unemployed     255347 non-null  bool   \n",
      " 18  MaritalStatus_Married         255347 non-null  bool   \n",
      " 19  MaritalStatus_Single          255347 non-null  bool   \n",
      " 20  HasMortgage_Yes               255347 non-null  bool   \n",
      " 21  HasDependents_Yes             255347 non-null  bool   \n",
      " 22  LoanPurpose_Business          255347 non-null  bool   \n",
      " 23  LoanPurpose_Education         255347 non-null  bool   \n",
      " 24  LoanPurpose_Home              255347 non-null  bool   \n",
      " 25  LoanPurpose_Other             255347 non-null  bool   \n",
      "dtypes: bool(15), float64(2), int64(8), object(1)\n",
      "memory usage: 25.1+ MB\n",
      "None\n"
     ]
    }
   ],
   "source": [
    "data = pd.get_dummies(data, columns = ['HasCoSigner', 'Education', 'EmploymentType', 'MaritalStatus', 'HasMortgage', 'HasDependents', 'LoanPurpose'], drop_first=True)\n",
    "print(data.columns)\n",
    "print(data.info())"
   ],
   "metadata": {
    "collapsed": false,
    "ExecuteTime": {
     "end_time": "2024-01-20T18:13:24.093785Z",
     "start_time": "2024-01-20T18:13:23.967938Z"
    }
   },
   "id": "53e55da905aa93cf"
  },
  {
   "cell_type": "code",
   "execution_count": 15,
   "outputs": [
    {
     "name": "stdout",
     "output_type": "stream",
     "text": [
      "0         False\n",
      "1         False\n",
      "2         False\n",
      "3         False\n",
      "4         False\n",
      "          ...  \n",
      "255342    False\n",
      "255343    False\n",
      "255344    False\n",
      "255345    False\n",
      "255346    False\n",
      "Name: Education_PhD, Length: 255347, dtype: bool\n"
     ]
    }
   ],
   "source": [
    "print(data['Education_PhD'])"
   ],
   "metadata": {
    "collapsed": false,
    "ExecuteTime": {
     "end_time": "2024-01-20T18:13:24.095955Z",
     "start_time": "2024-01-20T18:13:24.093884Z"
    }
   },
   "id": "e7683cc49e63ca1b"
  },
  {
   "cell_type": "markdown",
   "source": [
    "There are now 23 columns.  The only column that remains an object is 'LoanID' which we do not need and will drop.  The dummy columns are not numeric however.  Those columns are now bool type so I will need to convert the bool type to a numeric type, preferably of float type. To do this, I will use a lambda function to convert from bool to float."
   ],
   "metadata": {
    "collapsed": false
   },
   "id": "5f08447549d72c04"
  },
  {
   "cell_type": "code",
   "execution_count": 16,
   "outputs": [
    {
     "name": "stdout",
     "output_type": "stream",
     "text": [
      "<bound method DataFrame.info of         Age  Income  LoanAmount  CreditScore  MonthsEmployed  NumCreditLines  \\\n",
      "0        56   85994       50587          520              80               4   \n",
      "1        69   50432      124440          458              15               1   \n",
      "2        46   84208      129188          451              26               3   \n",
      "3        32   31713       44799          743               0               3   \n",
      "4        60   20437        9139          633               8               4   \n",
      "...     ...     ...         ...          ...             ...             ...   \n",
      "255342   19   37979      210682          541             109               4   \n",
      "255343   32   51953      189899          511              14               2   \n",
      "255344   56   84820      208294          597              70               3   \n",
      "255345   42   85109       60575          809              40               1   \n",
      "255346   62   22418       18481          636             113               2   \n",
      "\n",
      "        InterestRate  LoanTerm  DTIRatio  Default  ...  \\\n",
      "0              15.23        36      0.44        0  ...   \n",
      "1               4.81        60      0.68        0  ...   \n",
      "2              21.17        24      0.31        1  ...   \n",
      "3               7.07        24      0.23        0  ...   \n",
      "4               6.51        48      0.73        0  ...   \n",
      "...              ...       ...       ...      ...  ...   \n",
      "255342         14.11        12      0.85        0  ...   \n",
      "255343         11.55        24      0.21        1  ...   \n",
      "255344          5.29        60      0.50        0  ...   \n",
      "255345         20.90        48      0.44        0  ...   \n",
      "255346          6.73        12      0.48        0  ...   \n",
      "\n",
      "        EmploymentType_Self-employed  EmploymentType_Unemployed  \\\n",
      "0                                0.0                        0.0   \n",
      "1                                0.0                        0.0   \n",
      "2                                0.0                        1.0   \n",
      "3                                0.0                        0.0   \n",
      "4                                0.0                        1.0   \n",
      "...                              ...                        ...   \n",
      "255342                           0.0                        0.0   \n",
      "255343                           0.0                        0.0   \n",
      "255344                           1.0                        0.0   \n",
      "255345                           0.0                        0.0   \n",
      "255346                           0.0                        1.0   \n",
      "\n",
      "        MaritalStatus_Married  MaritalStatus_Single  HasMortgage_Yes  \\\n",
      "0                         0.0                   0.0              1.0   \n",
      "1                         1.0                   0.0              0.0   \n",
      "2                         0.0                   0.0              1.0   \n",
      "3                         1.0                   0.0              0.0   \n",
      "4                         0.0                   0.0              0.0   \n",
      "...                       ...                   ...              ...   \n",
      "255342                    1.0                   0.0              0.0   \n",
      "255343                    0.0                   0.0              0.0   \n",
      "255344                    1.0                   0.0              1.0   \n",
      "255345                    0.0                   1.0              1.0   \n",
      "255346                    0.0                   0.0              1.0   \n",
      "\n",
      "        HasDependents_Yes  LoanPurpose_Business  LoanPurpose_Education  \\\n",
      "0                     1.0                   0.0                    0.0   \n",
      "1                     0.0                   0.0                    0.0   \n",
      "2                     1.0                   0.0                    0.0   \n",
      "3                     0.0                   1.0                    0.0   \n",
      "4                     1.0                   0.0                    0.0   \n",
      "...                   ...                   ...                    ...   \n",
      "255342                0.0                   0.0                    0.0   \n",
      "255343                0.0                   0.0                    0.0   \n",
      "255344                1.0                   0.0                    0.0   \n",
      "255345                1.0                   0.0                    0.0   \n",
      "255346                0.0                   0.0                    1.0   \n",
      "\n",
      "        LoanPurpose_Home  LoanPurpose_Other  \n",
      "0                    0.0                1.0  \n",
      "1                    0.0                1.0  \n",
      "2                    0.0                0.0  \n",
      "3                    0.0                0.0  \n",
      "4                    0.0                0.0  \n",
      "...                  ...                ...  \n",
      "255342               0.0                1.0  \n",
      "255343               1.0                0.0  \n",
      "255344               0.0                0.0  \n",
      "255345               0.0                1.0  \n",
      "255346               0.0                0.0  \n",
      "\n",
      "[255347 rows x 25 columns]>\n",
      "Age                               int64\n",
      "Income                            int64\n",
      "LoanAmount                        int64\n",
      "CreditScore                       int64\n",
      "MonthsEmployed                    int64\n",
      "NumCreditLines                    int64\n",
      "InterestRate                    float64\n",
      "LoanTerm                          int64\n",
      "DTIRatio                        float64\n",
      "Default                           int64\n",
      "HasCoSigner_Yes                 float64\n",
      "Education_High School           float64\n",
      "Education_Master's              float64\n",
      "Education_PhD                   float64\n",
      "EmploymentType_Part-time        float64\n",
      "EmploymentType_Self-employed    float64\n",
      "EmploymentType_Unemployed       float64\n",
      "MaritalStatus_Married           float64\n",
      "MaritalStatus_Single            float64\n",
      "HasMortgage_Yes                 float64\n",
      "HasDependents_Yes               float64\n",
      "LoanPurpose_Business            float64\n",
      "LoanPurpose_Education           float64\n",
      "LoanPurpose_Home                float64\n",
      "LoanPurpose_Other               float64\n",
      "dtype: object\n"
     ]
    }
   ],
   "source": [
    "bool_to_float = lambda x: float(x) if isinstance(x, bool) else x\n",
    "columns_to_convert = ['Education_High School',\n",
    "                      \"Education_Master's\", 'Education_PhD', 'EmploymentType_Part-time',\n",
    "                      'EmploymentType_Self-employed', 'EmploymentType_Unemployed',\n",
    "                      'MaritalStatus_Married', 'MaritalStatus_Single', 'HasMortgage_Yes',\n",
    "                      'HasDependents_Yes', 'LoanPurpose_Business', 'LoanPurpose_Education',\n",
    "                      'LoanPurpose_Home', 'LoanPurpose_Other', 'HasCoSigner_Yes']\n",
    "data[columns_to_convert] = data[columns_to_convert].map(bool_to_float)\n",
    "data=data.drop('LoanID', axis =1)\n",
    "print(data.info)\n",
    "print(data.dtypes)"
   ],
   "metadata": {
    "collapsed": false,
    "ExecuteTime": {
     "end_time": "2024-01-20T18:13:24.877510Z",
     "start_time": "2024-01-20T18:13:24.096127Z"
    }
   },
   "id": "fe63c7c744cd5023"
  },
  {
   "cell_type": "markdown",
   "source": [
    "My data is ready to begin analysis.  My next step is to work through the exploratory data analysis steps for the project which will be completed in the next notebook."
   ],
   "metadata": {
    "collapsed": false
   },
   "id": "7bbf682717c4e2a0"
  },
  {
   "cell_type": "code",
   "execution_count": 17,
   "outputs": [
    {
     "name": "stdout",
     "output_type": "stream",
     "text": [
      "(255347, 25)\n"
     ]
    }
   ],
   "source": [
    "print(data.shape)"
   ],
   "metadata": {
    "collapsed": false,
    "ExecuteTime": {
     "end_time": "2024-01-20T18:13:24.880139Z",
     "start_time": "2024-01-20T18:13:24.877959Z"
    }
   },
   "id": "7122ba2c4aaa525"
  },
  {
   "cell_type": "code",
   "execution_count": 18,
   "outputs": [],
   "source": [
    "transformed_data = data\n",
    "transformed_data.to_csv('transformed_data.csv', index=False)"
   ],
   "metadata": {
    "collapsed": false,
    "ExecuteTime": {
     "end_time": "2024-01-20T18:13:26.488273Z",
     "start_time": "2024-01-20T18:13:24.882099Z"
    }
   },
   "id": "dcf6e5c91bcfe0af"
  }
 ],
 "metadata": {
  "kernelspec": {
   "display_name": "Python 3",
   "language": "python",
   "name": "python3"
  },
  "language_info": {
   "codemirror_mode": {
    "name": "ipython",
    "version": 2
   },
   "file_extension": ".py",
   "mimetype": "text/x-python",
   "name": "python",
   "nbconvert_exporter": "python",
   "pygments_lexer": "ipython2",
   "version": "2.7.6"
  }
 },
 "nbformat": 4,
 "nbformat_minor": 5
}
