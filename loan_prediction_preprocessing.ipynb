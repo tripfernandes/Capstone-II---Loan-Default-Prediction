{
 "cells": [
  {
   "cell_type": "markdown",
   "source": [
    "### Loan Prediction Preprocessing and Training Data Development"
   ],
   "metadata": {
    "collapsed": false
   },
   "id": "ea7981205df9033c"
  },
  {
   "cell_type": "markdown",
   "source": [
    "In this notebook, I am trying to create a cleaned development dataset for which I can complete the modeling step of the project (next!).\n",
    "\n",
    "I identified categorical variables and converted them to dummy variables using pd.get_dummies(). \n",
    "\n",
    "As discovered in the previous notebook, the target variable ('Default') suffers from severe class imbalance. Keeping the data as-is, is inappropriate for machine learning models. Therefore, I will need to rebalance the classes."
   ],
   "metadata": {
    "collapsed": false
   },
   "id": "f79f6c1ff8546bce"
  },
  {
   "cell_type": "code",
   "execution_count": 22,
   "outputs": [],
   "source": [
    "#import packages\n",
    "import pandas as pd\n",
    "import numpy as np\n",
    "import matplotlib.pyplot as plt\n",
    "from sklearn.model_selection import train_test_split, GridSearchCV, cross_val_score\n",
    "from sklearn.experimental import enable_halving_search_cv\n",
    "from sklearn.model_selection import HalvingGridSearchCV\n",
    "from sklearn.preprocessing import StandardScaler, LabelEncoder, OneHotEncoder\n",
    "from sklearn.linear_model import LogisticRegression\n",
    "from sklearn import metrics\n",
    "from sklearn.metrics import confusion_matrix, classification_report,accuracy_score,precision_score,recall_score,f1_score\n",
    "from xgboost import XGBClassifier\n",
    "from imblearn.over_sampling import SMOTE\n",
    "from sklearn.compose import ColumnTransformer"
   ],
   "metadata": {
    "collapsed": false,
    "ExecuteTime": {
     "end_time": "2024-01-20T19:18:00.796811Z",
     "start_time": "2024-01-20T19:18:00.791819Z"
    }
   },
   "id": "db315d2b3cd86e2d"
  },
  {
   "cell_type": "code",
   "execution_count": 23,
   "outputs": [],
   "source": [
    "#load the dataset\n",
    "data = pd.read_csv('transformed_data.csv')"
   ],
   "metadata": {
    "collapsed": false,
    "ExecuteTime": {
     "end_time": "2024-01-20T19:18:01.177475Z",
     "start_time": "2024-01-20T19:18:00.801486Z"
    }
   },
   "id": "e4b60691df9327ff"
  },
  {
   "cell_type": "markdown",
   "source": [
    "I know my data is clean from my previous notebooks.  I will next use sklearn's train_test_split on my dataset.  This way when I preprocess my data, I can preprocess my training and testing sets separately to avoid any data leakage (information from the test set unintentionally influences the training process). "
   ],
   "metadata": {
    "collapsed": false
   },
   "id": "b912a00a23bc571e"
  },
  {
   "cell_type": "code",
   "execution_count": 24,
   "outputs": [],
   "source": [
    "X = data.drop(['Default'], axis = 1)\n",
    "y = data['Default']\n",
    "X_train, X_test, y_train, y_test = train_test_split(X, y, test_size = 0.2, random_state =42)"
   ],
   "metadata": {
    "collapsed": false,
    "ExecuteTime": {
     "end_time": "2024-01-20T19:18:01.226012Z",
     "start_time": "2024-01-20T19:18:01.181207Z"
    }
   },
   "id": "69926119169a0dae"
  },
  {
   "cell_type": "markdown",
   "source": [
    "Since my features are a combination of numerical and categorical features, I will need to transform them separately. To do this I will use the ColumnTransformer from sklearn.  I will need group the numerical columns and categorical columns together, respectively."
   ],
   "metadata": {
    "collapsed": false
   },
   "id": "fe051be1975cbb2e"
  },
  {
   "cell_type": "code",
   "execution_count": 25,
   "outputs": [
    {
     "name": "stdout",
     "output_type": "stream",
     "text": [
      "Index(['Age', 'Income', 'LoanAmount', 'CreditScore', 'MonthsEmployed',\n",
      "       'NumCreditLines', 'InterestRate', 'LoanTerm', 'DTIRatio', 'Default',\n",
      "       'HasCoSigner_Yes', 'Education_High School', 'Education_Master's',\n",
      "       'Education_PhD', 'EmploymentType_Part-time',\n",
      "       'EmploymentType_Self-employed', 'EmploymentType_Unemployed',\n",
      "       'MaritalStatus_Married', 'MaritalStatus_Single', 'HasMortgage_Yes',\n",
      "       'HasDependents_Yes', 'LoanPurpose_Business', 'LoanPurpose_Education',\n",
      "       'LoanPurpose_Home', 'LoanPurpose_Other'],\n",
      "      dtype='object')\n"
     ]
    }
   ],
   "source": [
    "print(data.columns)"
   ],
   "metadata": {
    "collapsed": false,
    "ExecuteTime": {
     "end_time": "2024-01-20T19:18:01.229944Z",
     "start_time": "2024-01-20T19:18:01.227740Z"
    }
   },
   "id": "92fc83ea523fda8"
  },
  {
   "cell_type": "code",
   "execution_count": 26,
   "outputs": [],
   "source": [
    "numerical_cols = ['Age', 'Income', 'LoanAmount', 'CreditScore', 'MonthsEmployed', 'NumCreditLines', 'InterestRate', 'LoanTerm', 'DTIRatio']\n",
    "categorical_cols = ['Default', 'HasCoSigner_Yes', 'Education_High School', \"Education_Master's\", \n",
    "                    'Education_PhD', 'EmploymentType_Part-time', 'EmploymentType_Self-employed', \n",
    "                    'EmploymentType_Unemployed', 'MaritalStatus_Married', 'MaritalStatus_Single', \n",
    "                    'HasMortgage_Yes', 'HasDependents_Yes', 'LoanPurpose_Business', \n",
    "                    'LoanPurpose_Education', 'LoanPurpose_Home', 'LoanPurpose_Other']"
   ],
   "metadata": {
    "collapsed": false,
    "ExecuteTime": {
     "end_time": "2024-01-20T19:18:01.233479Z",
     "start_time": "2024-01-20T19:18:01.231791Z"
    }
   },
   "id": "f167d7b5301ec582"
  },
  {
   "cell_type": "code",
   "execution_count": 27,
   "outputs": [],
   "source": [
    "preprocessor = ColumnTransformer(\n",
    "    transformers=[('num', StandardScaler(), numerical_cols)], remainder='passthrough')\n",
    "\n",
    "X_train_transformed = preprocessor.fit_transform(X_train)\n",
    "X_test_transformed = preprocessor.transform(X_test)"
   ],
   "metadata": {
    "collapsed": false,
    "ExecuteTime": {
     "end_time": "2024-01-20T19:18:01.292096Z",
     "start_time": "2024-01-20T19:18:01.235764Z"
    }
   },
   "id": "467bdf3247ddcb5b"
  },
  {
   "cell_type": "markdown",
   "source": [
    "Since my categorical variables were already encoded in previous steps (data wrangling), this ColumnTransformer will transform and scale the numerical columns while keeping the already encoded categorical variables untouched."
   ],
   "metadata": {
    "collapsed": false
   },
   "id": "494b9f7eb32a190c"
  },
  {
   "cell_type": "code",
   "execution_count": 28,
   "outputs": [
    {
     "name": "stdout",
     "output_type": "stream",
     "text": [
      "Original Data:\n",
      "                 Age         Income     LoanAmount    CreditScore  \\\n",
      "count  255347.000000  255347.000000  255347.000000  255347.000000   \n",
      "mean       43.498306   82499.304597  127578.865512     574.264346   \n",
      "std        14.990258   38963.013729   70840.706142     158.903867   \n",
      "min        18.000000   15000.000000    5000.000000     300.000000   \n",
      "25%        31.000000   48825.500000   66156.000000     437.000000   \n",
      "50%        43.000000   82466.000000  127556.000000     574.000000   \n",
      "75%        56.000000  116219.000000  188985.000000     712.000000   \n",
      "max        69.000000  149999.000000  249999.000000     849.000000   \n",
      "\n",
      "       MonthsEmployed  NumCreditLines   InterestRate       LoanTerm  \\\n",
      "count   255347.000000   255347.000000  255347.000000  255347.000000   \n",
      "mean        59.541976        2.501036      13.492773      36.025894   \n",
      "std         34.643376        1.117018       6.636443      16.969330   \n",
      "min          0.000000        1.000000       2.000000      12.000000   \n",
      "25%         30.000000        2.000000       7.770000      24.000000   \n",
      "50%         60.000000        2.000000      13.460000      36.000000   \n",
      "75%         90.000000        3.000000      19.250000      48.000000   \n",
      "max        119.000000        4.000000      25.000000      60.000000   \n",
      "\n",
      "            DTIRatio  HasCoSigner_Yes  ...  EmploymentType_Self-employed  \\\n",
      "count  255347.000000    255347.000000  ...                 255347.000000   \n",
      "mean        0.500212         0.500108  ...                      0.249488   \n",
      "std         0.230917         0.500001  ...                      0.432718   \n",
      "min         0.100000         0.000000  ...                      0.000000   \n",
      "25%         0.300000         0.000000  ...                      0.000000   \n",
      "50%         0.500000         1.000000  ...                      0.000000   \n",
      "75%         0.700000         1.000000  ...                      0.000000   \n",
      "max         0.900000         1.000000  ...                      1.000000   \n",
      "\n",
      "       EmploymentType_Unemployed  MaritalStatus_Married  MaritalStatus_Single  \\\n",
      "count              255347.000000          255347.000000         255347.000000   \n",
      "mean                    0.249950               0.334063              0.332927   \n",
      "std                     0.432985               0.471663              0.471262   \n",
      "min                     0.000000               0.000000              0.000000   \n",
      "25%                     0.000000               0.000000              0.000000   \n",
      "50%                     0.000000               0.000000              0.000000   \n",
      "75%                     0.000000               1.000000              1.000000   \n",
      "max                     1.000000               1.000000              1.000000   \n",
      "\n",
      "       HasMortgage_Yes  HasDependents_Yes  LoanPurpose_Business  \\\n",
      "count    255347.000000      255347.000000         255347.000000   \n",
      "mean          0.500014           0.500268              0.200895   \n",
      "std           0.500001           0.500001              0.400671   \n",
      "min           0.000000           0.000000              0.000000   \n",
      "25%           0.000000           0.000000              0.000000   \n",
      "50%           1.000000           1.000000              0.000000   \n",
      "75%           1.000000           1.000000              0.000000   \n",
      "max           1.000000           1.000000              1.000000   \n",
      "\n",
      "       LoanPurpose_Education  LoanPurpose_Home  LoanPurpose_Other  \n",
      "count          255347.000000     255347.000000      255347.000000  \n",
      "mean                0.199748          0.200848           0.199391  \n",
      "std                 0.399812          0.400636           0.399544  \n",
      "min                 0.000000          0.000000           0.000000  \n",
      "25%                 0.000000          0.000000           0.000000  \n",
      "50%                 0.000000          0.000000           0.000000  \n",
      "75%                 0.000000          0.000000           0.000000  \n",
      "max                 1.000000          1.000000           1.000000  \n",
      "\n",
      "[8 rows x 24 columns]\n",
      "\n",
      "Scaled Training Data:\n",
      "                Age        Income    LoanAmount   CreditScore  MonthsEmployed  \\\n",
      "count  2.042770e+05  2.042770e+05  2.042770e+05  2.042770e+05    2.042770e+05   \n",
      "mean   2.260914e-17  1.087326e-16  1.697425e-17  8.514951e-17    8.170596e-17   \n",
      "std    1.000002e+00  1.000002e+00  1.000002e+00  1.000002e+00    1.000002e+00   \n",
      "min   -1.699838e+00 -1.733062e+00 -1.729542e+00 -1.725083e+00   -1.717640e+00   \n",
      "25%   -8.328918e-01 -8.633246e-01 -8.678088e-01 -8.627791e-01   -8.517270e-01   \n",
      "50%   -3.263324e-02 -2.727150e-03  7.833419e-04 -4.752139e-04   -1.467753e-02   \n",
      "75%    8.343135e-01  8.662139e-01  8.650850e-01  8.681228e-01    8.800995e-01   \n",
      "max    1.701260e+00  1.732716e+00  1.728201e+00  1.730427e+00    1.717149e+00   \n",
      "\n",
      "       NumCreditLines  InterestRate      LoanTerm      DTIRatio  \\\n",
      "count    2.042770e+05  2.042770e+05  2.042770e+05  2.042770e+05   \n",
      "mean     4.911401e-17  4.812617e-16  1.314809e-16  4.009123e-16   \n",
      "std      1.000002e+00  1.000002e+00  1.000002e+00  1.000002e+00   \n",
      "min     -1.344869e+00 -1.731174e+00 -1.417010e+00 -1.734760e+00   \n",
      "25%     -4.495301e-01 -8.631871e-01 -7.088273e-01 -8.686333e-01   \n",
      "50%      4.458090e-01 -5.748511e-03 -6.448202e-04 -2.507088e-03   \n",
      "75%      1.341148e+00  8.667593e-01  7.075376e-01  8.636191e-01   \n",
      "max      1.341148e+00  1.734746e+00  1.415720e+00  1.729745e+00   \n",
      "\n",
      "       HasCoSigner_Yes  ...  EmploymentType_Self-employed  \\\n",
      "count    204277.000000  ...                 204277.000000   \n",
      "mean          0.500281  ...                      0.249181   \n",
      "std           0.500001  ...                      0.432540   \n",
      "min           0.000000  ...                      0.000000   \n",
      "25%           0.000000  ...                      0.000000   \n",
      "50%           1.000000  ...                      0.000000   \n",
      "75%           1.000000  ...                      0.000000   \n",
      "max           1.000000  ...                      1.000000   \n",
      "\n",
      "       EmploymentType_Unemployed  MaritalStatus_Married  MaritalStatus_Single  \\\n",
      "count              204277.000000          204277.000000         204277.000000   \n",
      "mean                    0.249632               0.333944              0.332504   \n",
      "std                     0.432801               0.471621              0.471112   \n",
      "min                     0.000000               0.000000              0.000000   \n",
      "25%                     0.000000               0.000000              0.000000   \n",
      "50%                     0.000000               0.000000              0.000000   \n",
      "75%                     0.000000               1.000000              1.000000   \n",
      "max                     1.000000               1.000000              1.000000   \n",
      "\n",
      "       HasMortgage_Yes  HasDependents_Yes  LoanPurpose_Business  \\\n",
      "count    204277.000000      204277.000000         204277.000000   \n",
      "mean          0.500032           0.500203              0.200630   \n",
      "std           0.500001           0.500001              0.400472   \n",
      "min           0.000000           0.000000              0.000000   \n",
      "25%           0.000000           0.000000              0.000000   \n",
      "50%           1.000000           1.000000              0.000000   \n",
      "75%           1.000000           1.000000              0.000000   \n",
      "max           1.000000           1.000000              1.000000   \n",
      "\n",
      "       LoanPurpose_Education  LoanPurpose_Home  LoanPurpose_Other  \n",
      "count          204277.000000     204277.000000      204277.000000  \n",
      "mean                0.199998          0.200111           0.199871  \n",
      "std                 0.400000          0.400084           0.399904  \n",
      "min                 0.000000          0.000000           0.000000  \n",
      "25%                 0.000000          0.000000           0.000000  \n",
      "50%                 0.000000          0.000000           0.000000  \n",
      "75%                 0.000000          0.000000           0.000000  \n",
      "max                 1.000000          1.000000           1.000000  \n",
      "\n",
      "[8 rows x 24 columns]\n",
      "\n",
      "Scaled Testing Data:\n",
      "                Age        Income    LoanAmount   CreditScore  MonthsEmployed  \\\n",
      "count  51070.000000  51070.000000  51070.000000  51070.000000    51070.000000   \n",
      "mean       0.002990     -0.000889      0.002214      0.005943        0.004830   \n",
      "std        0.998363      1.001412      0.998997      1.000840        0.999683   \n",
      "min       -1.699838     -1.733062     -1.729556     -1.725083       -1.717640   \n",
      "25%       -0.832892     -0.870032     -0.861497     -0.862779       -0.851727   \n",
      "50%       -0.032633      0.004628     -0.003070      0.005819        0.014186   \n",
      "75%        0.901002      0.863371      0.873874      0.874417        0.880099   \n",
      "max        1.701260      1.732588      1.728018      1.730427        1.717149   \n",
      "\n",
      "       NumCreditLines  InterestRate      LoanTerm      DTIRatio  \\\n",
      "count    51070.000000  51070.000000  51070.000000  51070.000000   \n",
      "mean        -0.004666      0.003486      0.004417     -0.007943   \n",
      "std          1.000539      1.000296      1.007214      1.000048   \n",
      "min         -1.344869     -1.731174     -1.417010     -1.734760   \n",
      "25%         -1.344869     -0.857159     -0.708827     -0.868633   \n",
      "50%         -0.449530     -0.001228     -0.000645     -0.002507   \n",
      "75%          0.445809      0.872787      0.707538      0.863619   \n",
      "max          1.341148      1.734746      1.415720      1.729745   \n",
      "\n",
      "       HasCoSigner_Yes  ...  EmploymentType_Self-employed  \\\n",
      "count     51070.000000  ...                  51070.000000   \n",
      "mean          0.499413  ...                      0.250715   \n",
      "std           0.500005  ...                      0.433429   \n",
      "min           0.000000  ...                      0.000000   \n",
      "25%           0.000000  ...                      0.000000   \n",
      "50%           0.000000  ...                      0.000000   \n",
      "75%           1.000000  ...                      1.000000   \n",
      "max           1.000000  ...                      1.000000   \n",
      "\n",
      "       EmploymentType_Unemployed  MaritalStatus_Married  MaritalStatus_Single  \\\n",
      "count               51070.000000           51070.000000          51070.000000   \n",
      "mean                    0.251224               0.334541              0.334619   \n",
      "std                     0.433721               0.471834              0.471862   \n",
      "min                     0.000000               0.000000              0.000000   \n",
      "25%                     0.000000               0.000000              0.000000   \n",
      "50%                     0.000000               0.000000              0.000000   \n",
      "75%                     1.000000               1.000000              1.000000   \n",
      "max                     1.000000               1.000000              1.000000   \n",
      "\n",
      "       HasMortgage_Yes  HasDependents_Yes  LoanPurpose_Business  \\\n",
      "count     51070.000000       51070.000000          51070.000000   \n",
      "mean          0.499941           0.500529              0.201958   \n",
      "std           0.500005           0.500005              0.401465   \n",
      "min           0.000000           0.000000              0.000000   \n",
      "25%           0.000000           0.000000              0.000000   \n",
      "50%           0.000000           1.000000              0.000000   \n",
      "75%           1.000000           1.000000              0.000000   \n",
      "max           1.000000           1.000000              1.000000   \n",
      "\n",
      "       LoanPurpose_Education  LoanPurpose_Home  LoanPurpose_Other  \n",
      "count           51070.000000      51070.000000       51070.000000  \n",
      "mean                0.198747          0.203799           0.197474  \n",
      "std                 0.399061          0.402825           0.398097  \n",
      "min                 0.000000          0.000000           0.000000  \n",
      "25%                 0.000000          0.000000           0.000000  \n",
      "50%                 0.000000          0.000000           0.000000  \n",
      "75%                 0.000000          0.000000           0.000000  \n",
      "max                 1.000000          1.000000           1.000000  \n",
      "\n",
      "[8 rows x 24 columns]\n"
     ]
    }
   ],
   "source": [
    "#check transformations\n",
    "\n",
    "X_train_transformed_df = pd.DataFrame(X_train_transformed, columns=X.columns)\n",
    "X_test_transformed_df = pd.DataFrame(X_test_transformed, columns=X.columns)\n",
    "\n",
    "\n",
    "original_stats = X.describe()\n",
    "scaled_train_stats = X_train_transformed_df.describe()\n",
    "scaled_test_stats = X_test_transformed_df.describe()\n",
    "\n",
    "# Print the summary statistics\n",
    "print(\"Original Data:\")\n",
    "print(original_stats)\n",
    "\n",
    "print(\"\\nScaled Training Data:\")\n",
    "print(scaled_train_stats)\n",
    "\n",
    "print(\"\\nScaled Testing Data:\")\n",
    "print(scaled_test_stats)"
   ],
   "metadata": {
    "collapsed": false,
    "ExecuteTime": {
     "end_time": "2024-01-20T19:18:01.655180Z",
     "start_time": "2024-01-20T19:18:01.294895Z"
    }
   },
   "id": "4d9eb6223193eb66"
  },
  {
   "cell_type": "markdown",
   "source": [
    "Since test_train_split produced np arrays, I needed to convert them back to a dataframe to use the 'describe' method to look at the summary statistics.\n",
    "\n",
    "Looking at the summary statistics of the train and test data, the mean and std for the numerical variables are approximately 0 and 1, respectively.  This is the output we were looking for to confirm the numerical data was properly scaled. As for categorical variables, it's vital to ensure they are appropriately encoded which was done previously.\n",
    "\n",
    "Now that I feel confident about my training and testing data, I need to work on the class imbalance problem. To handle this, I intend to use the SMOTE technique which is designed to address the issue of class imbalance by generating synthetic examples of the minority class."
   ],
   "metadata": {
    "collapsed": false
   },
   "id": "f3149884fc3fb78a"
  },
  {
   "cell_type": "code",
   "execution_count": 29,
   "outputs": [],
   "source": [
    "smote = SMOTE(random_state= 42)\n",
    "X_train_res, y_train_res = smote.fit_resample(X_train_transformed, y_train)"
   ],
   "metadata": {
    "collapsed": false,
    "ExecuteTime": {
     "end_time": "2024-01-20T19:18:02.403410Z",
     "start_time": "2024-01-20T19:18:01.656007Z"
    }
   },
   "id": "14abed24dfce200d"
  },
  {
   "cell_type": "markdown",
   "source": [
    "I applied SMOTE only to the training data to avoid any data leakage. Next, I want to verify that the class is rebalanced."
   ],
   "metadata": {
    "collapsed": false
   },
   "id": "9d57a71cd2621331"
  },
  {
   "cell_type": "code",
   "execution_count": 30,
   "outputs": [
    {
     "name": "stdout",
     "output_type": "stream",
     "text": [
      "Original Class Distribution:\n",
      "Default\n",
      "0    180524\n",
      "1     23753\n",
      "Name: count, dtype: int64\n",
      "\n",
      "Resampled Class Distribution:\n",
      "Default\n",
      "0    180524\n",
      "1    180524\n",
      "Name: count, dtype: int64\n"
     ]
    },
    {
     "data": {
      "text/plain": "<Figure size 1000x500 with 2 Axes>",
      "image/png": "[encoded data removed]"
     },
     "metadata": {},
     "output_type": "display_data"
    }
   ],
   "source": [
    "original_class_dist = pd.Series(y_train).value_counts()\n",
    "res_class_dist = pd.Series(y_train_res).value_counts()\n",
    "\n",
    "print(\"Original Class Distribution:\")\n",
    "print(original_class_dist)\n",
    "\n",
    "print(\"\\nResampled Class Distribution:\")\n",
    "print(res_class_dist)\n",
    "\n",
    "plt.figure(figsize=(10, 5))\n",
    "\n",
    "plt.subplot(1, 2, 1)\n",
    "original_class_dist.plot(kind='bar', color=['skyblue', 'orange'])\n",
    "plt.title(\"Original Class Distribution\")\n",
    "\n",
    "plt.subplot(1, 2, 2)\n",
    "res_class_dist.plot(kind='bar', color=['skyblue', 'orange'])\n",
    "plt.title(\"Resampled Class Distribution\")\n",
    "\n",
    "plt.tight_layout()\n",
    "plt.show()"
   ],
   "metadata": {
    "collapsed": false,
    "ExecuteTime": {
     "end_time": "2024-01-20T19:18:02.578229Z",
     "start_time": "2024-01-20T19:18:02.408817Z"
    }
   },
   "id": "3e833e33274d5a47"
  },
  {
   "cell_type": "markdown",
   "source": [
    "It's clear that the data was resampled as seen above. The original class distribution showed a clear imbalance, meanwhile, the resampled distribution shows an even balance among classes (not default: 0, default: 1). \n",
    "\n",
    "In this notebook, I split my data into training sets and testing sets. Additionally, the training sets were resampled to help alleviate the class imbalance dilemma associated with the data.  My next step will be model development and implementation."
   ],
   "metadata": {
    "collapsed": false
   },
   "id": "91fe9267c0584c21"
  },
  {
   "cell_type": "code",
   "execution_count": 30,
   "outputs": [],
   "source": [],
   "metadata": {
    "collapsed": false,
    "ExecuteTime": {
     "end_time": "2024-01-20T19:18:02.580297Z",
     "start_time": "2024-01-20T19:18:02.578361Z"
    }
   },
   "id": "d384f3116958d06f"
  }
 ],
 "metadata": {
  "kernelspec": {
   "display_name": "Python 3",
   "language": "python",
   "name": "python3"
  },
  "language_info": {
   "codemirror_mode": {
    "name": "ipython",
    "version": 2
   },
   "file_extension": ".py",
   "mimetype": "text/x-python",
   "name": "python",
   "nbconvert_exporter": "python",
   "pygments_lexer": "ipython2",
   "version": "2.7.6"
  }
 },
 "nbformat": 4,
 "nbformat_minor": 5
}
