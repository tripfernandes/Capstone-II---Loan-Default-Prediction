{
 "cells": [
  {
   "cell_type": "markdown",
   "id": "c7454479c1da576",
   "metadata": {},
   "source": [
    "### Loan Prediction Exploratory Data Analysis (EDA)"
   ]
  },
  {
   "cell_type": "code",
   "execution_count": 6,
   "id": "752b53693e3a48ff",
   "metadata": {
    "ExecuteTime": {
     "end_time": "2024-07-29T17:25:31.703630Z",
     "start_time": "2024-07-29T17:25:31.699607Z"
    }
   },
   "outputs": [],
   "source": [
    "# Import python packages\n",
    "import pandas as pd\n",
    "import numpy as np\n",
    "import matplotlib.pyplot as plt\n",
    "import seaborn as sns\n",
    "from tabulate import tabulate"
   ]
  },
  {
   "cell_type": "code",
   "execution_count": 7,
   "id": "2e30a6e5f0ab9bab",
   "metadata": {
    "ExecuteTime": {
     "end_time": "2024-07-29T17:25:33.558259Z",
     "start_time": "2024-07-29T17:25:32.742285Z"
    }
   },
   "outputs": [],
   "source": [
    "# Load the dataset\n",
    "data = pd.read_csv('transformed_data.csv')"
   ]
  },
  {
   "cell_type": "markdown",
   "id": "a7ab3dc1e04bc595",
   "metadata": {},
   "source": [
    "Now that my data is clean, I am ready to begin exploratory data analysis.  My goal for this portion of the project is to gain valuable insights from the data.  What does the data tell us?  What is our hypothesis? How does the data support our hypothesis? Many more questions should arise from EDA. So let's begin. My first step is to look for any outliers."
   ]
  },
  {
   "cell_type": "code",
   "execution_count": 8,
   "id": "298a9dda7f0d2227",
   "metadata": {
    "ExecuteTime": {
     "end_time": "2024-07-29T17:25:34.957668Z",
     "start_time": "2024-07-29T17:25:34.886771Z"
    }
   },
   "outputs": [
    {
     "name": "stdout",
     "output_type": "stream",
     "text": [
      "Index(['Age', 'Income', 'LoanAmount', 'CreditScore', 'MonthsEmployed',\n",
      "       'NumCreditLines', 'InterestRate', 'LoanTerm'],\n",
      "      dtype='object')\n",
      "(255347, 25)\n"
     ]
    }
   ],
   "source": [
    "def treat_outliers(df,col):\n",
    "    '''\n",
    "    treats outliers in a variable\n",
    "    df: data frame\n",
    "    col: name of the column\n",
    "    '''\n",
    "\n",
    "    Q1 = np.nanquantile(df[col], 0.25) # 25th quantile\n",
    "    Q3 = np.nanquantile(df[col], 0.75)  # 75th quantile\n",
    "    IQR = Q3 - Q1   # IQR Range\n",
    "    Lower_Whisker = Q1 - 1.5*IQR  #define lower whisker\n",
    "    Upper_Whisker = Q3 + 1.5*IQR  # define upper Whisker\n",
    "    df[col] = np.clip(df[col], Lower_Whisker, Upper_Whisker) # all the values smaller than Lower_Whisker will be assigned value of Lower_whisker\n",
    "    # and all the values above upper_whisker will be assigned value of upper_Whisker\n",
    "    return df\n",
    "\n",
    "def treat_outliers_all(df, col_list):\n",
    "    '''\n",
    "    treat outlier in all numerical variables\n",
    "    col_list: list of numerical variables\n",
    "    df: data frame\n",
    "    '''\n",
    "    for c in col_list:\n",
    "        df = treat_outliers(df,c)\n",
    "\n",
    "    return df\n",
    "numerical_cols = data.columns[0:8]\n",
    "print(numerical_cols)\n",
    "treat_outliers_all(data, numerical_cols)\n",
    "print(data.shape)"
   ]
  },
  {
   "cell_type": "markdown",
   "id": "e9bd1a39e04fab2c",
   "metadata": {},
   "source": [
    "The shape remained the same.  This is great because this means our data does not have any outliers.  Next, I will visualize the data for insights beginning with a pairplot."
   ]
  },
  {
   "cell_type": "code",
   "execution_count": null,
   "id": "3c0757f5baf48346",
   "metadata": {
    "ExecuteTime": {
     "start_time": "2024-07-29T17:25:36.971140Z"
    },
    "is_executing": true
   },
   "outputs": [],
   "source": [
    "sns.pairplot(data)\n",
    "plt.show()"
   ]
  },
  {
   "cell_type": "markdown",
   "id": "bc602204576cd73d",
   "metadata": {},
   "source": [
    "There are too many pairplots to get a sense of anything.  I will need to write code to display larger, fewer pairplots per row. Therefore, I can have a better visualization of the data."
   ]
  },
  {
   "cell_type": "code",
   "execution_count": null,
   "id": "8f4b2ed378a39aad",
   "metadata": {},
   "outputs": [],
   "source": [
    "num_cols_per_row = 5\n",
    "\n",
    "# Get the list of numerical columns you want to visualize\n",
    "columns = data.columns\n",
    "\n",
    "# Calculate the total number of pairplots\n",
    "total_pairplots = len(columns)\n",
    "\n",
    "# Calculate the number of rows needed for the pairplots\n",
    "num_rows = -(-total_pairplots // num_cols_per_row)  # Ceiling division\n",
    "\n",
    "# Loop through the range of rows\n",
    "for i in range(num_rows):\n",
    "    # Calculate the start and end indices for each row\n",
    "    start_idx = i * num_cols_per_row\n",
    "    end_idx = min((i + 1) * num_cols_per_row, total_pairplots)\n",
    "\n",
    "    # Get the subset of numerical columns for the current row\n",
    "    subset_columns = columns[start_idx:end_idx]\n",
    "\n",
    "    # Create a pairplot for the current subset\n",
    "    sns.pairplot(data[subset_columns])\n",
    "\n",
    "    # Show the plot\n",
    "    plt.show()"
   ]
  },
  {
   "cell_type": "markdown",
   "id": "e7722a7744bd97ef",
   "metadata": {},
   "source": [
    "The pairplots are much easier to read with only 5 pairplots per row.  Unfortunately, nothing immediately jumps out from the pairplot visualization.  Let's try a different type of visualization.  My next visualization will be a correlation matrix heatmap."
   ]
  },
  {
   "cell_type": "code",
   "execution_count": null,
   "id": "da8638415560396",
   "metadata": {},
   "outputs": [],
   "source": [
    "plt.figure(figsize=(20, 8))\n",
    "\n",
    "correlation_matrix = data.corr()\n",
    "sns.heatmap(correlation_matrix, annot=True, cmap=\"coolwarm\")\n",
    "plt.show()\n",
    "plt.savefig('correlation_matrix_heatmap.png')"
   ]
  },
  {
   "cell_type": "markdown",
   "id": "e8439955cbdc5f6c",
   "metadata": {},
   "source": [
    "The heatmap visualization is much more helpful than the pairplots.  Since our target variable is 'Default', we are looking to identify the most impactful explanatory variables.  From the heatmap, it looks like 'Age', 'Income', 'Loan Amount', 'Months Employed', and 'Interest Rate' have the strongest correlation to 'Default' (some negative, some positive). This is a great first step!  Let's see if any other insights can be inferred from other visualizations."
   ]
  },
  {
   "cell_type": "code",
   "execution_count": null,
   "id": "e75e88e4725bcff0",
   "metadata": {},
   "outputs": [],
   "source": [
    "numerical_columns_of_interest = ['Age', 'Income', 'LoanAmount', 'MonthsEmployed', 'InterestRate']\n",
    "categorical_columns = ['Default', 'HasCoSigner_Yes', 'Education_High School', \"Education_Master's\", 'Education_PhD', 'EmploymentType_Part-time', 'EmploymentType_Self-employed', 'EmploymentType_Unemployed', 'MaritalStatus_Married', 'MaritalStatus_Single', 'HasMortgage_Yes', 'HasDependents_Yes', 'LoanPurpose_Business', 'LoanPurpose_Education', 'LoanPurpose_Home', 'LoanPurpose_Other']\n",
    "for column in categorical_columns:\n",
    "    plt.figure(figsize=(15, 8))  \n",
    "\n",
    "    \n",
    "    for i, num_col in enumerate(numerical_columns_of_interest, 1):\n",
    "        plt.subplot(1, len(numerical_columns_of_interest), i)\n",
    "\n",
    "        \n",
    "        sns.violinplot(x=column, y=num_col, data=data)\n",
    "\n",
    "        plt.title(f'{num_col} across {column}')\n",
    "\n",
    "    plt.tight_layout()\n",
    "    plt.show()"
   ]
  },
  {
   "cell_type": "markdown",
   "id": "732499fc99cd610",
   "metadata": {},
   "source": [
    "The first row of violin plots have the greatest disparity.  All the other violin plots look to be somewhat uniform whereas in the first row, there are noticeable variations with respect to not default (0) and default (1) when compared to the 'Age', 'Income', 'LoanAmount', 'MonthsEmployed', 'InterestRate' columns.\n",
    "\n",
    "There are a greater number of defaults (wider portion of the violin means greater density) among younger people, lower income, larger loan amounts, and higher interest rates. \n",
    "\n",
    "I think it would be wise to look at all the numerical columns instead of just the numerical columns of interest.  "
   ]
  },
  {
   "cell_type": "code",
   "execution_count": null,
   "id": "dfd0db77fd15a4ee",
   "metadata": {},
   "outputs": [],
   "source": [
    "numerical_columns = ['Age', 'Income', 'LoanAmount', 'CreditScore', 'MonthsEmployed', 'NumCreditLines', 'InterestRate', 'LoanTerm', 'DTIRatio']\n",
    "\n",
    "\n",
    "plt.figure(figsize=(15, 8))\n",
    "num_rows = 2  \n",
    "num_cols = len(numerical_columns) // num_rows + 1\n",
    "    \n",
    "for i, num_col in enumerate(numerical_columns, 1):\n",
    "    plt.subplot(num_rows, num_cols, i)\n",
    "\n",
    "    \n",
    "    sns.violinplot(x='Default', y=num_col, data=data)\n",
    "\n",
    "    plt.title(f'{num_col} across Default')\n",
    "\n",
    "plt.subplots_adjust(wspace=0.4, hspace=0.4)\n",
    "plt.show()"
   ]
  },
  {
   "cell_type": "markdown",
   "id": "bd7e7f91cf9ed3eb",
   "metadata": {},
   "source": [
    "This is an interesting result. The two variables, Number of Credit Lines and Loan Term, are numeric variables but not continuous (discrete).  It looks like there is a difference between those who defaults and those who did not with the number of credit lines.  The medians are clearly different (2 vs 3). The two medians are the same for the loan term variable.  Let's compare all columns and see what the data says."
   ]
  },
  {
   "cell_type": "code",
   "execution_count": null,
   "id": "96a56002a7d42a3d",
   "metadata": {},
   "outputs": [],
   "source": [
    "numerical_columns = data.columns\n",
    "\n",
    "\n",
    "\n",
    "num_rows = 6  \n",
    "num_cols = len(numerical_columns) // num_rows + 1\n",
    "plt.figure(figsize=(15, num_rows * 3))\n",
    "\n",
    "for i, num_col in enumerate(numerical_columns, 1):\n",
    "    plt.subplot(num_rows, num_cols, i)\n",
    "\n",
    "\n",
    "    sns.violinplot(x='Default', y=num_col, data=data)\n",
    "\n",
    "    plt.title(f'{num_col} across Default')\n",
    "\n",
    "plt.subplots_adjust(wspace=0.4, hspace=0.4)\n",
    "plt.show()"
   ]
  },
  {
   "cell_type": "markdown",
   "id": "13972ee60de321a7",
   "metadata": {},
   "source": [
    "These additional plots do not add any additional insights. I will look to visualize the data differently to gain further insights.  My next visualization will be the boxplot."
   ]
  },
  {
   "cell_type": "code",
   "execution_count": null,
   "id": "707d20cde5076582",
   "metadata": {},
   "outputs": [],
   "source": [
    "numerical_columns = ['Age', 'Income', 'LoanAmount', 'CreditScore', 'MonthsEmployed', 'NumCreditLines', 'InterestRate', 'LoanTerm', 'DTIRatio']\n",
    "\n",
    "plt.figure(figsize=(15, 8))\n",
    "\n",
    "num_rows = 2\n",
    "num_cols = len(numerical_columns) // num_rows + 1  \n",
    "\n",
    "for i, num_col in enumerate(numerical_columns, 1):\n",
    "    plt.subplot(num_rows, num_cols, i)\n",
    "    sns.boxplot(x='Default', y=num_col, data=data)\n",
    "    plt.title(f'{num_col} across Default')\n",
    "\n",
    "plt.subplots_adjust(wspace=0.4, hspace=0.4)\n",
    "plt.show()"
   ]
  },
  {
   "cell_type": "markdown",
   "id": "c81758b75d4b8f01",
   "metadata": {},
   "source": [
    "This is a good start but more is needed.  I want to add summary statistics to the visualizations to help me process the information better."
   ]
  },
  {
   "cell_type": "code",
   "execution_count": null,
   "id": "c9ad792d2a18f926",
   "metadata": {},
   "outputs": [],
   "source": [
    "numerical_columns = ['Age', 'Income', 'LoanAmount', 'CreditScore', 'MonthsEmployed', 'NumCreditLines', 'InterestRate', 'LoanTerm', 'DTIRatio']\n",
    "\n",
    "plt.figure(figsize=(15, 10))  \n",
    "\n",
    "num_rows = 2\n",
    "num_cols = len(numerical_columns) // num_rows + 1  \n",
    "\n",
    "for i, num_col in enumerate(numerical_columns, 1):\n",
    "    plt.subplot(num_rows, num_cols, i)\n",
    "\n",
    "    sns.boxplot(x='Default', y=num_col, data=data, hue='Default', legend = False) \n",
    "\n",
    "    # Annotate the boxplot with summary statistics\n",
    "    for default_category in data['Default'].unique():\n",
    "        subset_data = data[data['Default'] == default_category][num_col]\n",
    "\n",
    "        median_val = subset_data.median()\n",
    "        mean_val = subset_data.mean()\n",
    "        q1_val = subset_data.quantile(0.25)\n",
    "        q3_val = subset_data.quantile(0.75)\n",
    "\n",
    "        plt.text(default_category, subset_data.max() + 0.1,\n",
    "                 f'Median: {median_val:.2f}\\nMean: {mean_val:.2f}\\nQ1: {q1_val:.2f}\\nQ3: {q3_val:.2f}',\n",
    "                 ha='center', va='bottom', bbox=dict(boxstyle='round', facecolor='white', alpha=0.7))\n",
    "\n",
    "    \n",
    "\n",
    "plt.subplots_adjust(wspace=0.4, hspace=0.6)  \n",
    "plt.show()"
   ]
  },
  {
   "cell_type": "markdown",
   "id": "2bb731dff274d233",
   "metadata": {},
   "source": [
    "By changing the hue and adding summary statistics, it is easier to interpret the plots. I prefer the violin plot to the boxplot.  I will change the hue in the violin plot so it looks similar to these boxplots.  Next, I want to look at a count plot of the dummy variables. I would like to have the summary statistics separate from the box plot which is shown next."
   ]
  },
  {
   "cell_type": "code",
   "execution_count": null,
   "id": "4f34a81741dd51b7",
   "metadata": {},
   "outputs": [],
   "source": [
    "\n",
    "\n",
    "numerical_columns = ['Age', 'Income', 'LoanAmount', 'CreditScore', 'MonthsEmployed', 'NumCreditLines', 'InterestRate', 'LoanTerm', 'DTIRatio']\n",
    "\n",
    "annotations_list = []\n",
    "\n",
    "for num_col in numerical_columns:\n",
    "    annotations = []\n",
    "\n",
    "    for default_category in data['Default'].unique():\n",
    "        subset_data = data[data['Default'] == default_category][num_col]\n",
    "\n",
    "        median_val = subset_data.median()\n",
    "        mean_val = subset_data.mean()\n",
    "        min_val = subset_data.min()\n",
    "        q1_val = subset_data.quantile(0.25)\n",
    "        q3_val = subset_data.quantile(0.75)\n",
    "        max_val = subset_data.max()\n",
    "\n",
    "        # Collect annotations for the current column\n",
    "        annotations.append({\n",
    "            'Default': default_category,\n",
    "            'Median': median_val,\n",
    "            'Mean': mean_val,\n",
    "            'Min': min_val,\n",
    "            'Q1': q1_val,\n",
    "            'Q3': q3_val,\n",
    "            'Max': max_val\n",
    "        })\n",
    "\n",
    "    # Add annotations for the current column to the overall list\n",
    "    annotations_list.append({\n",
    "        'Column': num_col,\n",
    "        'Annotations': annotations\n",
    "    })\n",
    "\n",
    "\n",
    "for col_annotations in annotations_list:\n",
    "    print(f\"\\nAnnotations for {col_annotations['Column']}:\\n\")\n",
    "    annotations_df = pd.DataFrame(col_annotations['Annotations'])\n",
    "    print(tabulate(annotations_df, headers='keys', tablefmt='psql'))"
   ]
  },
  {
   "cell_type": "code",
   "execution_count": null,
   "id": "ceb2f633762edc7e",
   "metadata": {},
   "outputs": [],
   "source": [
    "columns_to_explore = ['Default', 'Education_High School', \"Education_Master's\", 'Education_PhD',\n",
    "                      'EmploymentType_Part-time', 'EmploymentType_Self-employed', 'EmploymentType_Unemployed',\n",
    "                      'MaritalStatus_Married', 'MaritalStatus_Single', 'HasMortgage_Yes',\n",
    "                      'HasDependents_Yes', 'LoanPurpose_Business', 'LoanPurpose_Education',\n",
    "                      'LoanPurpose_Home', 'LoanPurpose_Other', 'HasCoSigner_Yes']\n",
    "\n",
    "num_cols = 4\n",
    "num_rows = (len(columns_to_explore) - 1) // num_cols + 1\n",
    "\n",
    "plt.figure(figsize=(15, 8))\n",
    "sns.set(style=\"whitegrid\")\n",
    "\n",
    "\n",
    "for i, column in enumerate(columns_to_explore, 1):\n",
    "    plt.subplot(num_rows, num_cols, i)\n",
    "    sns.countplot(x=column, data=data)\n",
    "    plt.title(column)\n",
    "\n",
    "plt.tight_layout()\n",
    "plt.show()"
   ]
  },
  {
   "cell_type": "markdown",
   "id": "cb287dc7404ac84",
   "metadata": {},
   "source": [
    "This plot is helpful because it shows that there is clearly a class imbalance in the 'Default' column.  There is a considerably higher number of non-defaults than defaults.  How many exactly? And what about the other categorical variables? Are they also imbalanced? Let's find out. "
   ]
  },
  {
   "cell_type": "code",
   "execution_count": null,
   "id": "e863665fae0ae55f",
   "metadata": {},
   "outputs": [],
   "source": [
    "print(data['Default'].value_counts())"
   ]
  },
  {
   "cell_type": "code",
   "execution_count": null,
   "id": "93d9b5d267aa25cf",
   "metadata": {},
   "outputs": [],
   "source": [
    "default_counts = data['Default'].value_counts()\n",
    "\n",
    "\n",
    "default_percentage = (default_counts / len(data)) * 100\n",
    "\n",
    "print(default_percentage)"
   ]
  },
  {
   "cell_type": "markdown",
   "id": "330d200417a4e0d7",
   "metadata": {},
   "source": [
    "88.39% of the data consists of non-defaults while 11.61% of the data consists of defaults. This is a clear class imbalance which will need to be taken into consideration when looking at different machine learning models. I will most likely need to resample my data to get a more balanced dataset.  This is something I will do in the next section.  "
   ]
  },
  {
   "cell_type": "markdown",
   "id": "1e526ca77fbe1cda",
   "metadata": {},
   "source": [
    "Going back to the countplots,  we want to ensure there is a balance in the data but because these are dummy variables, we want to compare the counts of \"1's\" not \"0's\" except for 'HasDependents_Yes', 'HasCoSigner_Yes', and 'HasMortgage_Yes' since they are already binary."
   ]
  },
  {
   "cell_type": "code",
   "execution_count": null,
   "id": "885be4de47412791",
   "metadata": {},
   "outputs": [],
   "source": [
    "columns_to_explore_minus_default = ['Education_High School', \"Education_Master's\", 'Education_PhD',\n",
    "                      'EmploymentType_Part-time', 'EmploymentType_Self-employed', 'EmploymentType_Unemployed',\n",
    "                      'MaritalStatus_Married', 'MaritalStatus_Single', 'HasMortgage_Yes',\n",
    "                      'HasDependents_Yes', 'LoanPurpose_Business', 'LoanPurpose_Education',\n",
    "                      'LoanPurpose_Home', 'LoanPurpose_Other', 'HasCoSigner_Yes']\n",
    "plt.figure(figsize=(15, 8))\n",
    "sns.set(style=\"whitegrid\")\n",
    "\n",
    "# Create subplots for each categorical variable\n",
    "for i, column in enumerate(columns_to_explore_minus_default, 1):\n",
    "    ax = plt.subplot(num_rows, num_cols, i)\n",
    "\n",
    "    \n",
    "    if column in ['HasDependents_Yes', 'HasCoSigner_Yes']:\n",
    "        filtered_data = data\n",
    "    else:\n",
    "        filtered_data = data[data[column] == 1]\n",
    "\n",
    "    sns.countplot(x=column, data=filtered_data)\n",
    "\n",
    "    for p in ax.patches:\n",
    "        ax.text(p.get_x() + p.get_width() / 2., p.get_height(), f'{int(p.get_height())}', ha='center', va='bottom')\n",
    "\n",
    "plt.tight_layout()\n",
    "plt.show()"
   ]
  },
  {
   "cell_type": "markdown",
   "id": "523246cb52a548a7",
   "metadata": {},
   "source": [
    "I believe the following plots are the most useful and are displayed below:\n",
    "- Heatmap\n",
    "The heatmap provided an excellent starting point of which explanatory variables to further investigate.\n",
    "- Violin Plot\n",
    "The violin plot provided a clear visualization of the differences between defaults and non-defaults across the numeric explanatory variables.\n",
    "- Annotation Table\n",
    "The annotation table provides important summary statistics related to the explanatory and target variable.\n",
    "- Count Plots\n",
    "The count plot helped identify class imbalance for default but showed balance among the other categorical variables."
   ]
  },
  {
   "cell_type": "code",
   "execution_count": null,
   "id": "4b44cec0fd0def0c",
   "metadata": {},
   "outputs": [],
   "source": [
    "plt.figure(figsize=(20, 12))\n",
    "\n",
    "correlation_matrix = data.corr()\n",
    "sns.heatmap(correlation_matrix, annot=True, cmap='tab20c', fmt='.2f')\n",
    "plt.show()"
   ]
  },
  {
   "cell_type": "code",
   "execution_count": null,
   "id": "8c1e24b33e84d34",
   "metadata": {},
   "outputs": [],
   "source": [
    "numerical_columns = ['Age', 'Income', 'LoanAmount', 'CreditScore', 'MonthsEmployed', 'NumCreditLines', 'InterestRate', 'LoanTerm', 'DTIRatio']\n",
    "\n",
    "\n",
    "plt.figure(figsize=(15, 8))\n",
    "num_rows = 2\n",
    "num_cols = len(numerical_columns) // num_rows + 1\n",
    "\n",
    "for i, num_col in enumerate(numerical_columns, 1):\n",
    "    plt.subplot(num_rows, num_cols, i)\n",
    "\n",
    "\n",
    "    sns.violinplot(x='Default', y=num_col, data=data, hue='Default', legend = False)\n",
    "\n",
    "    plt.title(f'{num_col} across Default')\n",
    "\n",
    "plt.subplots_adjust(wspace=0.4, hspace=0.4)\n",
    "plt.show()"
   ]
  },
  {
   "cell_type": "code",
   "execution_count": null,
   "id": "5f7baf53d6a3c96a",
   "metadata": {},
   "outputs": [],
   "source": [
    "for col_annotations in annotations_list:\n",
    "    print(f\"\\nAnnotations for {col_annotations['Column']}:\\n\")\n",
    "    annotations_df = pd.DataFrame(col_annotations['Annotations'])\n",
    "    print(tabulate(annotations_df, headers='keys', tablefmt='psql'))"
   ]
  },
  {
   "cell_type": "code",
   "execution_count": null,
   "id": "9694fc68037d49ab",
   "metadata": {},
   "outputs": [],
   "source": [
    "\n",
    "\n",
    "columns_to_explore_minus_default = ['Education_High School', \"Education_Master's\", 'Education_PhD',\n",
    "                                    'EmploymentType_Part-time', 'EmploymentType_Self-employed', 'EmploymentType_Unemployed',\n",
    "                                    'MaritalStatus_Married', 'MaritalStatus_Single', 'HasMortgage_Yes',\n",
    "                                    'HasDependents_Yes', 'LoanPurpose_Business', 'LoanPurpose_Education',\n",
    "                                    'LoanPurpose_Home', 'LoanPurpose_Other', 'HasCoSigner_Yes']\n",
    "\n",
    "\n",
    "num_cols = 3  \n",
    "num_rows = -(-len(columns_to_explore_minus_default) // num_cols)  \n",
    "\n",
    "plt.figure(figsize=(15, 8))\n",
    "sns.set(style=\"whitegrid\")\n",
    "\n",
    "\n",
    "for i, column in enumerate(columns_to_explore_minus_default, 1):\n",
    "    ax = plt.subplot(num_rows, num_cols, i)\n",
    "\n",
    "    if column in ['HasDependents_Yes', 'HasCoSigner_Yes']:\n",
    "        filtered_data = data\n",
    "    else:\n",
    "        filtered_data = data[data[column] == 1]\n",
    "\n",
    "    sns.countplot(x=column, data=filtered_data)\n",
    "\n",
    "    for p in ax.patches:\n",
    "        ax.text(p.get_x() + p.get_width() / 2., p.get_height(), f'{int(p.get_height())}', ha='center', va='bottom')\n",
    "\n",
    "plt.tight_layout()\n",
    "plt.show()\n"
   ]
  },
  {
   "cell_type": "code",
   "execution_count": null,
   "id": "709a97ca2af9d205",
   "metadata": {},
   "outputs": [],
   "source": [
    "sns.countplot(x='Default', data=data)\n",
    "plt.show()\n",
    "default_counts = data['Default'].value_counts()\n",
    "\n",
    "\n",
    "default_percentage = (default_counts / len(data)) * 100\n",
    "\n",
    "print(default_percentage)"
   ]
  },
  {
   "cell_type": "markdown",
   "id": "1229d20209891625",
   "metadata": {},
   "source": [
    "In the next notebook I will work on pre-processing and training data development."
   ]
  }
 ],
 "metadata": {
  "kernelspec": {
   "display_name": "Python 3 (ipykernel)",
   "language": "python",
   "name": "python3"
  },
  "language_info": {
   "codemirror_mode": {
    "name": "ipython",
    "version": 3
   },
   "file_extension": ".py",
   "mimetype": "text/x-python",
   "name": "python",
   "nbconvert_exporter": "python",
   "pygments_lexer": "ipython3",
   "version": "3.9.13"
  }
 },
 "nbformat": 4,
 "nbformat_minor": 5
}
